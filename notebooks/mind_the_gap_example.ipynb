{
 "cells": [
  {
   "cell_type": "markdown",
   "metadata": {},
   "source": [
    "# Mind the Gap - Spacetime Error Visualization\n",
    "\n",
    "This notebook demonstrates how to use the \"Mind the Gap\" visualization tools to explore spacetime error evolution in your simulation runs.\n",
    "\n",
    "## Features\n",
    "- ✓ Automatic data caching and reuse\n",
    "- ✓ Interactive Plotly visualizations\n",
    "- ✓ Easy dropdown-style interface\n",
    "- ✓ Multi-variable dashboards\n",
    "- ✓ No need to run command-line tools manually"
   ]
  },
  {
   "cell_type": "markdown",
   "metadata": {},
   "source": [
    "## Setup\n",
    "\n",
    "First, import the visualizer class:"
   ]
  },
  {
   "cell_type": "code",
   "execution_count": null,
   "metadata": {},
   "outputs": [],
   "source": [
    "from notebooks.mind_the_gap_jupyter import MindTheGapVisualizer\n",
    "\n",
    "# Initialize visualizer for your experiment\n",
    "viz = MindTheGapVisualizer('shocktube_phase1')  # Change to your experiment name"
   ]
  },
  {
   "cell_type": "markdown",
   "metadata": {},
   "source": [
    "## Check Available Runs\n",
    "\n",
    "See which runs are available and which have cached data:"
   ]
  },
  {
   "cell_type": "code",
   "execution_count": null,
   "metadata": {},
   "outputs": [],
   "source": [
    "viz.show_available_runs()"
   ]
  },
  {
   "cell_type": "markdown",
   "metadata": {},
   "source": [
    "## Check Data Availability\n",
    "\n",
    "Check if data is available for a specific run:"
   ]
  },
  {
   "cell_type": "code",
   "execution_count": null,
   "metadata": {},
   "outputs": [],
   "source": [
    "run_name = 'run_001'  # Change to your run name\n",
    "viz.check_data(run_name)"
   ]
  },
  {
   "cell_type": "markdown",
   "metadata": {},
   "source": [
    "## Generate Data (if needed)\n",
    "\n",
    "If data is not available, run analysis to generate and cache it:"
   ]
  },
  {
   "cell_type": "code",
   "execution_count": null,
   "metadata": {},
   "outputs": [],
   "source": [
    "# Run analysis for all runs (this may take a while)\n",
    "# viz.analyze_and_cache()\n",
    "\n",
    "# Or run for specific runs only\n",
    "# viz.analyze_and_cache(['run_001', 'run_002'])"
   ]
  },
  {
   "cell_type": "markdown",
   "metadata": {},
   "source": [
    "## Create Single Variable Plot\n",
    "\n",
    "Create an interactive \"mind the gap\" plot for a single variable:"
   ]
  },
  {
   "cell_type": "code",
   "execution_count": null,
   "metadata": {},
   "outputs": [],
   "source": [
    "# Plot density (rho) errors\n",
    "fig = viz.plot('run_001', variable='rho', auto_analyze=False)\n",
    "\n",
    "if fig:\n",
    "    fig.show()\n",
    "\n",
    "# Try other variables: 'ux', 'pp', 'ee'"
   ]
  },
  {
   "cell_type": "markdown",
   "metadata": {},
   "source": [
    "## Create Multi-Variable Dashboard\n",
    "\n",
    "Create a 2x2 dashboard showing all variables:"
   ]
  },
  {
   "cell_type": "code",
   "execution_count": null,
   "metadata": {},
   "outputs": [],
   "source": [
    "fig = viz.dashboard('run_001', auto_analyze=False)\n",
    "\n",
    "if fig:\n",
    "    fig.show()"
   ]
  },
  {
   "cell_type": "markdown",
   "metadata": {},
   "source": [
    "## Interactive Viewer (Optional)\n",
    "\n",
    "Create an interactive viewer with dropdowns (requires ipywidgets):"
   ]
  },
  {
   "cell_type": "code",
   "execution_count": null,
   "metadata": {},
   "outputs": [],
   "source": [
    "# Install ipywidgets if needed: pip install ipywidgets\n",
    "viz.create_interactive_viewer()"
   ]
  },
  {
   "cell_type": "markdown",
   "metadata": {},
   "source": [
    "## Quick Access Functions\n",
    "\n",
    "For even simpler one-liners:"
   ]
  },
  {
   "cell_type": "code",
   "execution_count": null,
   "metadata": {},
   "outputs": [],
   "source": [
    "from notebooks.mind_the_gap_jupyter import quick_plot, quick_dashboard\n",
    "\n",
    "# Quick plot (automatically runs analysis if needed)\n",
    "fig = quick_plot('shocktube_phase1', 'run_001', 'rho', auto_analyze=True)\n",
    "if fig:\n",
    "    fig.show()\n",
    "\n",
    "# Quick dashboard\n",
    "fig = quick_dashboard('shocktube_phase1', 'run_001', auto_analyze=True)\n",
    "if fig:\n",
    "    fig.show()"
   ]
  },
  {
   "cell_type": "markdown",
   "metadata": {},
   "source": [
    "## Tips\n",
    "\n",
    "1. **Data is cached**: Once analysis runs, data is saved as JSON files and can be reused\n",
    "2. **Auto-analyze**: Set `auto_analyze=True` to automatically run analysis if data is missing\n",
    "3. **Code units**: The graphs use normalized code units (0-1 range) for meaningful comparison\n",
    "4. **Interactive**: Use the play button and slider in plots to animate through timesteps\n",
    "5. **Hover info**: Hover over points to see exact values\n",
    "\n",
    "## Data Location\n",
    "\n",
    "Cached data is stored in:\n",
    "```\n",
    "analysis/<experiment_name>/error/mind_the_gap/<run_name>/<run_name>_<variable>_spacetime_data.json\n",
    "```\n",
    "\n",
    "## Troubleshooting\n",
    "\n",
    "If plots don't show:\n",
    "1. Check data availability with `viz.check_data(run_name)`\n",
    "2. Run analysis: `viz.analyze_and_cache()`\n",
    "3. Check that the experiment config has `use_code_units: true`\n",
    "\n",
    "## More Information\n",
    "\n",
    "See `notebooks/README.md` for more details and advanced usage."
   ]
  }
 ],
 "metadata": {
  "kernelspec": {
   "display_name": "Python 3",
   "language": "python",
   "name": "python3"
  },
  "language_info": {
   "codemirror_mode": {
    "name": "ipython",
    "version": 3
   },
   "file_extension": ".py",
   "mimetype": "text/x-python",
   "name": "python",
   "nbconvert_exporter": "python",
   "pygments_lexer": "ipython3",
   "version": "3.11.0"
  }
 },
 "nbformat": 4,
 "nbformat_minor": 4
}
