{
 "cells": [
  {
   "cell_type": "markdown",
   "metadata": {},
   "source": [
    "# Discovery Visualization - Interactive Error Analysis\n",
    "\n",
    "This notebook demonstrates the new interactive visualizations for error analysis:\n",
    "\n",
    "1. **Error Evolution with Animation**: Line graphs showing error vs distance for each VAR snapshot\n",
    "   - Slider to navigate through time\n",
    "   - Play/Pause buttons for animation\n",
    "   \n",
    "2. **3D Error Maps**: Surface plots with dropdown menus\n",
    "   - Select experiment, branch, run, and element\n",
    "   - X-axis: Distance, Y-axis: Time, Z-axis: Error magnitude"
   ]
  },
  {
   "cell_type": "markdown",
   "metadata": {},
   "source": [
    "## Setup\n",
    "\n",
    "Import the visualization functions. These are now fully Jupyter-compatible and return interactive Plotly figures."
   ]
  },
  {
   "cell_type": "code",
   "execution_count": null,
   "metadata": {},
   "outputs": [],
   "source": [
    "# Add project root to Python path\n",
    "import sys\n",
    "from pathlib import Path\n",
    "\n",
    "# Get the project root (parent of notebooks directory)\n",
    "project_root = Path.cwd().parent if Path.cwd().name == 'notebooks' else Path.cwd()\n",
    "if str(project_root) not in sys.path:\n",
    "    sys.path.insert(0, str(project_root))\n",
    "\n",
    "print(f\"Project root: {project_root}\")"
   ]
  },
  {
   "cell_type": "code",
   "execution_count": null,
   "metadata": {},
   "outputs": [],
   "source": [
    "# Import the visualization module\n",
    "from discovery_visualization import show_error_evolution, show_3d_error_map"
   ]
  },
  {
   "cell_type": "markdown",
   "metadata": {},
   "source": [
    "## 1. Error Evolution Animation\n",
    "\n",
    "This creates an animated line graph showing how error varies with distance at each timestep.\n",
    "Use the slider or play button to move through time.\n",
    "\n",
    "**Interactive Controls:**\n",
    "- **Play/Pause buttons**: Auto-animate through timesteps\n",
    "- **Slider**: Manually select specific timesteps\n",
    "- **Hover**: See exact error values at each position"
   ]
  },
  {
   "cell_type": "code",
   "execution_count": null,
   "metadata": {},
   "outputs": [],
   "source": [
    "# Example: Show error evolution for a specific run\n",
    "experiment = 'shocktube_phase1'\n",
    "run = 'res400_nohyper_massfix_default_gamma_nu0p1_chi0p1_diffrho0p1'\n",
    "element = 'rho'  # Options: 'rho', 'ux', 'pp', 'ee'\n",
    "\n",
    "fig = show_error_evolution(experiment, run, element)\n",
    "if fig:\n",
    "    fig.show()\n",
    "else:\n",
    "    print(f\"Failed to generate visualization for {run}\")"
   ]
  },
  {
   "cell_type": "markdown",
   "metadata": {},
   "source": [
    "## 2. Explore Different Elements\n",
    "\n",
    "You can visualize different physical quantities to understand how errors propagate in different fields:"
   ]
  },
  {
   "cell_type": "code",
   "execution_count": null,
   "metadata": {},
   "outputs": [],
   "source": [
    "# Density (ρ)\n",
    "fig_rho = show_error_evolution(experiment, run, 'rho')\n",
    "if fig_rho:\n",
    "    fig_rho.show()"
   ]
  },
  {
   "cell_type": "code",
   "execution_count": null,
   "metadata": {},
   "outputs": [],
   "source": [
    "# Velocity (uₓ)\n",
    "fig_ux = show_error_evolution(experiment, run, 'ux')\n",
    "if fig_ux:\n",
    "    fig_ux.show()"
   ]
  },
  {
   "cell_type": "code",
   "execution_count": null,
   "metadata": {},
   "outputs": [],
   "source": [
    "# Pressure (p)\n",
    "fig_pp = show_error_evolution(experiment, run, 'pp')\n",
    "if fig_pp:\n",
    "    fig_pp.show()"
   ]
  },
  {
   "cell_type": "code",
   "execution_count": null,
   "metadata": {},
   "outputs": [],
   "source": [
    "# Energy (e)\n",
    "fig_ee = show_error_evolution(experiment, run, 'ee')\n",
    "if fig_ee:\n",
    "    fig_ee.show()"
   ]
  },
  {
   "cell_type": "markdown",
   "metadata": {},
   "source": [
    "## 3. 3D Error Map with Dropdowns\n",
    "\n",
    "This creates an interactive 3D surface plot where you can:\n",
    "- Select different experiments from the dropdown\n",
    "- Choose different branches (parameter variations)\n",
    "- Select specific runs\n",
    "- Switch between elements (rho, ux, pp, ee)\n",
    "\n",
    "**Interactive Controls:**\n",
    "- **Dropdown menu**: Select experiment/branch/run/element combinations\n",
    "- **3D rotation**: Click and drag to rotate the view\n",
    "- **Zoom**: Scroll to zoom in/out\n",
    "- **Pan**: Shift+drag to pan the view"
   ]
  },
  {
   "cell_type": "code",
   "execution_count": null,
   "metadata": {},
   "outputs": [],
   "source": [
    "# Create 3D error map with all available experiments\n",
    "# This will auto-detect all experiments in the analysis directory\n",
    "fig_3d = show_3d_error_map()\n",
    "if fig_3d:\n",
    "    fig_3d.show()\n",
    "else:\n",
    "    print(\"Failed to generate 3D error map\")"
   ]
  },
  {
   "cell_type": "code",
   "execution_count": null,
   "metadata": {},
   "outputs": [],
   "source": [
    "# Or specify which experiments to include\n",
    "fig_3d = show_3d_error_map(\n",
    "    experiment_names=['shocktube_phase1', 'shocktube_phase2'],\n",
    "    default_experiment='shocktube_phase2'\n",
    ")\n",
    "if fig_3d:\n",
    "    fig_3d.show()\n",
    "else:\n",
    "    print(\"Failed to generate 3D error map with specified experiments\")"
   ]
  },
  {
   "cell_type": "markdown",
   "metadata": {},
   "source": [
    "## 4. Tips for Interactive Exploration\n",
    "\n",
    "### Error Evolution Animation\n",
    "- Watch how error patterns change over time using the animation\n",
    "- Look for spatial patterns: Are errors higher near shock fronts?\n",
    "- Compare different elements to see which fields accumulate more error\n",
    "\n",
    "### 3D Error Maps\n",
    "- The Z-axis uses a logarithmic scale to show error magnitude\n",
    "- Rotate the 3D view to spot patterns in space-time\n",
    "- Use the dropdown to quickly compare different parameter combinations\n",
    "- Look for trends: Do certain parameter choices consistently produce lower errors?"
   ]
  },
  {
   "cell_type": "markdown",
   "metadata": {},
   "source": [
    "## 5. Advanced: Comparing Multiple Runs\n",
    "\n",
    "You can create multiple visualizations in the same notebook to compare different runs side-by-side:"
   ]
  },
  {
   "cell_type": "code",
   "execution_count": null,
   "metadata": {},
   "outputs": [],
   "source": [
    "# Example: Compare two different runs\n",
    "run1 = 'res400_nohyper_massfix_default_gamma_nu0p1_chi0p1_diffrho0p1'\n",
    "run2 = 'res400_hyper3_massfix_default_gamma_nu0p1_chi0p1_diffrho0p1'  # Example run name\n",
    "\n",
    "print(\"Run 1: No hyperdiffusion\")\n",
    "fig1 = show_error_evolution(experiment, run1, 'rho')\n",
    "if fig1:\n",
    "    fig1.show()\n",
    "\n",
    "print(\"\\nRun 2: With hyperdiffusion\")\n",
    "fig2 = show_error_evolution(experiment, run2, 'rho')\n",
    "if fig2:\n",
    "    fig2.show()"
   ]
  },
  {
   "cell_type": "markdown",
   "metadata": {},
   "source": [
    "## Notes\n",
    "\n",
    "- All visualizations are **fully interactive** - no command line required!\n",
    "- Figures can be saved using the Plotly camera icon in the top-right of each plot\n",
    "- If a visualization fails to load, check that:\n",
    "  - The experiment exists in the `analysis/` directory\n",
    "  - The run name is correct and has VAR files\n",
    "  - The sweep.yaml file exists in the experiment's plan directory"
   ]
  }
 ],
 "metadata": {
  "kernelspec": {
   "display_name": "Python 3",
   "language": "python",
   "name": "python3"
  },
  "language_info": {
   "codemirror_mode": {
    "name": "ipython",
    "version": 3
   },
   "file_extension": ".py",
   "mimetype": "text/x-python",
   "name": "python",
   "nbconvert_exporter": "python",
   "pygments_lexer": "ipython3",
   "version": "3.11.0"
  }
 },
 "nbformat": 4,
 "nbformat_minor": 4
}
