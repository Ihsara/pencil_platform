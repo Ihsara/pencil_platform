{
 "cells": [
  {
   "cell_type": "markdown",
   "metadata": {},
   "source": [
    "# Discovery Visualization - Interactive Error Analysis\n",
    "\n",
    "This notebook demonstrates the new interactive visualizations for error analysis:\n",
    "\n",
    "1. **Error Evolution with Animation**: Line graphs showing error vs distance for each VAR snapshot\n",
    "   - Slider to navigate through time\n",
    "   - Play/Pause buttons for animation\n",
    "   \n",
    "2. **3D Error Maps**: Surface plots with dropdown menus\n",
    "   - Select experiment, branch, run, and element\n",
    "   - X-axis: Distance, Y-axis: Time, Z-axis: Error magnitude"
   ]
  },
  {
   "cell_type": "code",
   "execution_count": null,
   "metadata": {},
   "outputs": [],
   "source": [
    "# Import the visualization module\n",
    "from discovery_visualization import show_error_evolution, show_3d_error_map"
   ]
  },
  {
   "cell_type": "markdown",
   "metadata": {},
   "source": [
    "## 1. Error Evolution Animation\n",
    "\n",
    "This creates an animated line graph showing how error varies with distance at each timestep.\n",
    "Use the slider or play button to move through time."
   ]
  },
  {
   "cell_type": "code",
   "execution_count": null,
   "metadata": {},
   "outputs": [],
   "source": [
    "# Example: Show error evolution for a specific run\n",
    "experiment = 'shocktube_phase1'\n",
    "run = 'res400_nohyper_massfix_default_gamma_nu0p1_chi0p1_diffrho0p1'\n",
    "element = 'rho'  # Options: 'rho', 'ux', 'pp', 'ee'\n",
    "\n",
    "fig = show_error_evolution(experiment, run, element)\n",
    "fig.show()"
   ]
  },
  {
   "cell_type": "markdown",
   "metadata": {},
   "source": [
    "## 2. Explore Different Elements\n",
    "\n",
    "You can visualize different physical quantities:"
   ]
  },
  {
   "cell_type": "code",
   "execution_count": null,
   "metadata": {},
   "outputs": [],
   "source": [
    "# Density (ρ)\n",
    "fig_rho = show_error_evolution(experiment, run, 'rho')\n",
    "fig_rho.show()\n",
    "\n",
    "# Velocity (uₓ)\n",
    "fig_ux = show_error_evolution(experiment, run, 'ux')\n",
    "fig_ux.show()\n",
    "\n",
    "# Pressure (p)\n",
    "fig_pp = show_error_evolution(experiment, run, 'pp')\n",
    "fig_pp.show()\n",
    "\n",
    "# Energy (e)\n",
    "fig_ee = show_error_evolution(experiment, run, 'ee')\n",
    "fig_ee.show()"
   ]
  },
  {
   "cell_type": "markdown",
   "metadata": {},
   "source": [
    "## 3. 3D Error Map with Dropdowns\n",
    "\n",
    "This creates an interactive 3D surface plot where you can:\n",
    "- Select different experiments from the dropdown\n",
    "- Choose different branches (parameter variations)\n",
    "- Select specific runs\n",
    "- Switch between elements (rho, ux, pp, ee)"
   ]
  },
  {
   "cell_type": "code",
   "execution_count": null,
   "metadata": {},
   "outputs": [],
   "source": [
    "# Create 3D error map with all available experiments\n",
    "fig_3d = show_3d_error_map()\n",
    "fig_3d.show()"
   ]
  },
  {
   "cell_type": "code",
   "execution_count": null,
   "metadata": {},
   "outputs": [],
   "source": [
    "# Or specify which experiments to include\n",
    "fig_3d = show_3d_error_map(\n",
    "    experiment_names=['shocktube_phase1', 'shocktube_phase2'],\n",
    "    default_experiment='shocktube_phase2'\n",
    ")\n",
    "fig_3d.show()"
   ]
  },
  {
   "cell_type": "markdown",
   "metadata": {},
   "source": [
    "## 4. Batch Generation\n",
    "\n",
    "Generate all visualizations for an experiment and save to organized structure:\n",
    "```\n",
    "analysis/<experiment>/error/evo_time/<element>/line_<run_name>.html\n",
    "```"
   ]
  },
  {
   "cell_type": "code",
   "execution_count": null,
   "metadata": {},
   "outputs": [],
   "source": [
    "# This would generate all visualizations (uncomment to run)\n",
    "# from discovery_visualization import generate_all_visualizations_for_experiment\n",
    "# generate_all_visualizations_for_experiment('shocktube_phase1')"
   ]
  },
  {
   "cell_type": "markdown",
   "metadata": {},
   "source": [
    "## 5. Command Line Usage\n",
    "\n",
    "You can also use the module from command line:\n",
    "\n",
    "```bash\n",
    "# Generate all visualizations for an experiment\n",
    "python notebooks/discovery_visualization.py --experiment shocktube_phase1 --generate-all\n",
    "\n",
    "# Show visualization for specific run\n",
    "python notebooks/discovery_visualization.py --experiment shocktube_phase1 --run <run_name> --element rho\n",
    "```"
   ]
  },
  {
   "cell_type": "markdown",
   "metadata": {},
   "source": [
    "## Folder Structure\n",
    "\n",
    "The new organization:\n",
    "\n",
    "```\n",
    "analysis/\n",
    "├── <experiment>/\n",
    "│   ├── error/\n",
    "│   │   ├── evo_time/          # Renamed from \"evolution\"\n",
    "│   │   │   ├── rho/           # Density visualizations\n",
    "│   │   │   │   ├── line_<run1>.html\n",
    "│   │   │   │   ├── line_<run2>.html\n",
    "│   │   │   │   └── ...\n",
    "│   │   │   ├── ux/            # Velocity visualizations\n",
    "│   │   │   ├── pp/            # Pressure visualizations\n",
    "│   │   │   └── ee/            # Energy visualizations\n",
    "│   │   ├── error_frames/\n",
    "│   │   └── spacetime_maps/\n",
    "```"
   ]
  }
 ],
 "metadata": {
  "kernelspec": {
   "display_name": "Python 3",
   "language": "python",
   "name": "python3"
  },
  "language_info": {
   "name": "python",
   "version": "3.11.0"
  }
 },
 "nbformat": 4,
 "nbformat_minor": 2
}
